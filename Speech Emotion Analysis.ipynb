{
 "cells": [
  {
   "cell_type": "code",
   "execution_count": null,
   "id": "1a6aa238",
   "metadata": {
    "scrolled": true
   },
   "outputs": [],
   "source": [
    "!pip install --user pipwin\n",
    "\n",
    "#it is for windows used to work with pyaudio"
   ]
  },
  {
   "cell_type": "code",
   "execution_count": null,
   "id": "176981dd",
   "metadata": {},
   "outputs": [],
   "source": [
    "!C:\\Users\\talmeez\\AppData\\Roaming\\Python\\Python310\\Scripts\\pipwin install PyAudio\n",
    "    \n",
    "#It is internally used by speech recognition library.\n",
    "#PyAudio,can easily use Python to play and record audio on a variety of platforms,Linux,Windows, and macOS."
   ]
  },
  {
   "cell_type": "code",
   "execution_count": null,
   "id": "44b9e2f5",
   "metadata": {},
   "outputs": [],
   "source": [
    "!pip install SpeechRecognition\n",
    "\n",
    "#Library for performing speech recognition, with support for several engines and APIs, online and offline"
   ]
  },
  {
   "cell_type": "code",
   "execution_count": null,
   "id": "e36012d7",
   "metadata": {},
   "outputs": [],
   "source": [
    "!pip install textblob\n",
    "\n",
    "#TextBlob is a Pythonlibrary for processing textual data.\n",
    "#It provides a simple API for diving into common natural language processing (NLP) tasks such as,\n",
    "#tagging,extraction,sentiment analysis,classification"
   ]
  },
  {
   "cell_type": "code",
   "execution_count": 1,
   "id": "8df48222",
   "metadata": {},
   "outputs": [],
   "source": [
    "import speech_recognition as sr"
   ]
  },
  {
   "cell_type": "code",
   "execution_count": 2,
   "id": "5c13babb",
   "metadata": {},
   "outputs": [],
   "source": [
    "def recognize_speech_from_mic(recognizer, microphone):   #function\n",
    "\n",
    "    # check that recognizer and microphone arguments are appropriate type\n",
    "    if not isinstance(recognizer, sr.Recognizer):\n",
    "        raise TypeError(\"`recognizer` must be `Recognizer` instance\")\n",
    "\n",
    "    if not isinstance(microphone, sr.Microphone):\n",
    "        raise TypeError(\"`microphone` must be `Microphone` instance\")\n",
    "\n",
    "    # adjust the recognizer sensitivity to ambient noise and record audio\n",
    "    # from the microphone\n",
    "    with microphone as source:\n",
    "        recognizer.adjust_for_ambient_noise(source) # #  analyze the audio source for 1 second\n",
    "        audio = recognizer.listen(source)   #audio is captured\n",
    "\n",
    "    # set up the response object\n",
    "    response = {\n",
    "        \"success\": True,\n",
    "        \"error\": None,\n",
    "        \"transcription\": None\n",
    "    }\n",
    "\n",
    "    # try recognizing the speech in the recording\n",
    "    # if a RequestError or UnknownValueError exception is caught,\n",
    "    #   update the response object accordingly\n",
    "    try:\n",
    "        response[\"transcription\"] = recognizer.recognize_google(audio)  #by default function used by SR that uses default cases\n",
    "    except sr.RequestError:\n",
    "        # API was unreachable or unresponsive\n",
    "        response[\"success\"] = False\n",
    "        response[\"error\"] = \"API unavailable/unresponsive\"\n",
    "    except sr.UnknownValueError:\n",
    "        # speech was unintelligible\n",
    "        response[\"error\"] = \"Unable to recognize speech\"\n",
    "\n",
    "    return response\n",
    "\n",
    "\n",
    "#here conversion of audio into text is done"
   ]
  },
  {
   "cell_type": "code",
   "execution_count": 3,
   "id": "ac8f4144",
   "metadata": {},
   "outputs": [],
   "source": [
    "recognizer = sr.Recognizer()   #here we identify the voice with the microphone"
   ]
  },
  {
   "cell_type": "code",
   "execution_count": 4,
   "id": "a0ba8053",
   "metadata": {},
   "outputs": [],
   "source": [
    "mic = sr.Microphone(device_index=1)     #here we identify the voice with the microphone"
   ]
  },
  {
   "cell_type": "code",
   "execution_count": 5,
   "id": "2f936df6",
   "metadata": {},
   "outputs": [],
   "source": [
    "response = recognize_speech_from_mic(recognizer, mic)   #Both parameters are passed to function and response is generated if no error"
   ]
  },
  {
   "cell_type": "code",
   "execution_count": 6,
   "id": "62be2697",
   "metadata": {
    "scrolled": false
   },
   "outputs": [
    {
     "name": "stdout",
     "output_type": "stream",
     "text": [
      "\n",
      "Success : True\n",
      "Error   : None\n",
      "\n",
      "Text from Speech\n",
      "-----------------\n",
      "\n",
      "hello hello\n"
     ]
    }
   ],
   "source": [
    "print('\\nSuccess : {}\\nError   : {}\\n\\nText from Speech\\n{}\\n\\n{}' \\\n",
    "          .format(response['success'],\n",
    "                  response['error'],\n",
    "                  '-'*17,\n",
    "                  response['transcription']))\n",
    "#printing wheather successs or failur"
   ]
  },
  {
   "cell_type": "code",
   "execution_count": 7,
   "id": "50102c30",
   "metadata": {},
   "outputs": [
    {
     "name": "stdout",
     "output_type": "stream",
     "text": [
      "Speak it out\n",
      "You said : I am very much happy to having this team in mini project group so yes I am very much happy thank you lot\n",
      "Speak it out\n",
      "You said : bola na program run thoda sa time virus program program is not running so fast so much slow shit why this program is not working properly stitch by\n",
      "Speak it out\n",
      "You said : None\n",
      "Speak it out\n",
      "You said : bye bye\n",
      "Speak it out\n",
      "You said : bye\n",
      "Stop\n",
      "['I am very much happy to having this team in mini project group so yes I am very much happy thank you lot', 'bola na program run thoda sa time virus program program is not running so fast so much slow shit why this program is not working properly stitch by', None, 'bye bye']\n"
     ]
    }
   ],
   "source": [
    "\n",
    "\n",
    "temp_str = ''#.....................pass various strings\n",
    "records_all = []#..................Empty list that will be filled with string to be talked\n",
    "while (temp_str != 'bye'):#..........................A contionuouis loop to be breaked whenever 'bye' is said\n",
    "    print('Speak it out')\n",
    "    response = recognize_speech_from_mic(recognizer, mic) #\n",
    "    if response['success']:#............If success then voice is captured\n",
    "        temp_str = response['transcription']\n",
    "        print('You said :' ,temp_str )#...........Printing whatever had been said so far\n",
    "        if (temp_str != 'bye'):#.....................If 'bye word has been said then recording is stopped'\n",
    "            records_all.append(temp_str)#......................Appending the text\n",
    "print('Stop')\n",
    "print(records_all)"
   ]
  },
  {
   "cell_type": "code",
   "execution_count": 8,
   "id": "961d11d6",
   "metadata": {
    "scrolled": false
   },
   "outputs": [],
   "source": [
    "#records_all.remove(None)"
   ]
  },
  {
   "cell_type": "code",
   "execution_count": 9,
   "id": "b9a81353",
   "metadata": {},
   "outputs": [],
   "source": [
    "from textblob import TextBlob      #sentiment analyzer"
   ]
  },
  {
   "cell_type": "code",
   "execution_count": 10,
   "id": "50bf11e7",
   "metadata": {},
   "outputs": [],
   "source": [
    "def get_sentiment(sentx):      #function\n",
    "        '''\n",
    "        Utility function to classify sentiment of passed tweet\n",
    "        using textblob's sentiment method\n",
    "        '''\n",
    "        # create TextBlob object of passed text\n",
    "        analysis = TextBlob(sentx)\n",
    "        # set sentiment\n",
    "        if analysis.sentiment.polarity > 0:\n",
    "            return ('positive')\n",
    "        elif analysis.sentiment.polarity == 0:\n",
    "            return ('neutral')\n",
    "        else:\n",
    "            return ('negative')"
   ]
  },
  {
   "cell_type": "code",
   "execution_count": 11,
   "id": "5b05358d",
   "metadata": {
    "scrolled": true
   },
   "outputs": [
    {
     "name": "stdout",
     "output_type": "stream",
     "text": [
      "positive ===> I am very much happy to having this team in mini project group so yes I am very much happy thank you lot\n",
      "negative ===> bola na program run thoda sa time virus program program is not running so fast so much slow shit why this program is not working properly stitch by\n"
     ]
    },
    {
     "ename": "TypeError",
     "evalue": "The `text` argument passed to `__init__(text)` must be a string, not <class 'NoneType'>",
     "output_type": "error",
     "traceback": [
      "\u001b[1;31m---------------------------------------------------------------------------\u001b[0m",
      "\u001b[1;31mTypeError\u001b[0m                                 Traceback (most recent call last)",
      "Cell \u001b[1;32mIn[11], line 4\u001b[0m\n\u001b[0;32m      2\u001b[0m sentimets_total \u001b[38;5;241m=\u001b[39m {\u001b[38;5;124m'\u001b[39m\u001b[38;5;124mneutral\u001b[39m\u001b[38;5;124m'\u001b[39m: \u001b[38;5;241m0\u001b[39m , \u001b[38;5;124m'\u001b[39m\u001b[38;5;124mpositive\u001b[39m\u001b[38;5;124m'\u001b[39m : \u001b[38;5;241m0\u001b[39m , \u001b[38;5;124m'\u001b[39m\u001b[38;5;124mnegative\u001b[39m\u001b[38;5;124m'\u001b[39m:\u001b[38;5;241m0\u001b[39m}\n\u001b[0;32m      3\u001b[0m \u001b[38;5;28;01mfor\u001b[39;00m recd_sent \u001b[38;5;129;01min\u001b[39;00m records_all:\n\u001b[1;32m----> 4\u001b[0m     sentiment \u001b[38;5;241m=\u001b[39m \u001b[43mget_sentiment\u001b[49m\u001b[43m(\u001b[49m\u001b[43mrecd_sent\u001b[49m\u001b[43m)\u001b[49m\n\u001b[0;32m      5\u001b[0m     \u001b[38;5;28mprint\u001b[39m (sentiment,\u001b[38;5;124m'\u001b[39m\u001b[38;5;124m===>\u001b[39m\u001b[38;5;124m'\u001b[39m,recd_sent)\n\u001b[0;32m      6\u001b[0m     sentimets_total[sentiment] \u001b[38;5;241m=\u001b[39m sentimets_total[sentiment] \u001b[38;5;241m+\u001b[39m \u001b[38;5;241m1\u001b[39m\n",
      "Cell \u001b[1;32mIn[10], line 7\u001b[0m, in \u001b[0;36mget_sentiment\u001b[1;34m(sentx)\u001b[0m\n\u001b[0;32m      2\u001b[0m \u001b[38;5;124;03m'''\u001b[39;00m\n\u001b[0;32m      3\u001b[0m \u001b[38;5;124;03mUtility function to classify sentiment of passed tweet\u001b[39;00m\n\u001b[0;32m      4\u001b[0m \u001b[38;5;124;03musing textblob's sentiment method\u001b[39;00m\n\u001b[0;32m      5\u001b[0m \u001b[38;5;124;03m'''\u001b[39;00m\n\u001b[0;32m      6\u001b[0m \u001b[38;5;66;03m# create TextBlob object of passed text\u001b[39;00m\n\u001b[1;32m----> 7\u001b[0m analysis \u001b[38;5;241m=\u001b[39m \u001b[43mTextBlob\u001b[49m\u001b[43m(\u001b[49m\u001b[43msentx\u001b[49m\u001b[43m)\u001b[49m\n\u001b[0;32m      8\u001b[0m \u001b[38;5;66;03m# set sentiment\u001b[39;00m\n\u001b[0;32m      9\u001b[0m \u001b[38;5;28;01mif\u001b[39;00m analysis\u001b[38;5;241m.\u001b[39msentiment\u001b[38;5;241m.\u001b[39mpolarity \u001b[38;5;241m>\u001b[39m \u001b[38;5;241m0\u001b[39m:\n",
      "File \u001b[1;32m~\\anaconda3\\lib\\site-packages\\textblob\\blob.py:384\u001b[0m, in \u001b[0;36mBaseBlob.__init__\u001b[1;34m(self, text, tokenizer, pos_tagger, np_extractor, analyzer, parser, classifier, clean_html)\u001b[0m\n\u001b[0;32m    380\u001b[0m \u001b[38;5;28;01mdef\u001b[39;00m \u001b[38;5;21m__init__\u001b[39m(\u001b[38;5;28mself\u001b[39m, text, tokenizer\u001b[38;5;241m=\u001b[39m\u001b[38;5;28;01mNone\u001b[39;00m,\n\u001b[0;32m    381\u001b[0m             pos_tagger\u001b[38;5;241m=\u001b[39m\u001b[38;5;28;01mNone\u001b[39;00m, np_extractor\u001b[38;5;241m=\u001b[39m\u001b[38;5;28;01mNone\u001b[39;00m, analyzer\u001b[38;5;241m=\u001b[39m\u001b[38;5;28;01mNone\u001b[39;00m,\n\u001b[0;32m    382\u001b[0m             parser\u001b[38;5;241m=\u001b[39m\u001b[38;5;28;01mNone\u001b[39;00m, classifier\u001b[38;5;241m=\u001b[39m\u001b[38;5;28;01mNone\u001b[39;00m, clean_html\u001b[38;5;241m=\u001b[39m\u001b[38;5;28;01mFalse\u001b[39;00m):\n\u001b[0;32m    383\u001b[0m     \u001b[38;5;28;01mif\u001b[39;00m \u001b[38;5;129;01mnot\u001b[39;00m \u001b[38;5;28misinstance\u001b[39m(text, basestring):\n\u001b[1;32m--> 384\u001b[0m         \u001b[38;5;28;01mraise\u001b[39;00m \u001b[38;5;167;01mTypeError\u001b[39;00m(\u001b[38;5;124m'\u001b[39m\u001b[38;5;124mThe `text` argument passed to `__init__(text)` \u001b[39m\u001b[38;5;124m'\u001b[39m\n\u001b[0;32m    385\u001b[0m                         \u001b[38;5;124m'\u001b[39m\u001b[38;5;124mmust be a string, not \u001b[39m\u001b[38;5;132;01m{0}\u001b[39;00m\u001b[38;5;124m'\u001b[39m\u001b[38;5;241m.\u001b[39mformat(\u001b[38;5;28mtype\u001b[39m(text)))\n\u001b[0;32m    386\u001b[0m     \u001b[38;5;28;01mif\u001b[39;00m clean_html:\n\u001b[0;32m    387\u001b[0m         \u001b[38;5;28;01mraise\u001b[39;00m \u001b[38;5;167;01mNotImplementedError\u001b[39;00m(\u001b[38;5;124m\"\u001b[39m\u001b[38;5;124mclean_html has been deprecated. \u001b[39m\u001b[38;5;124m\"\u001b[39m\n\u001b[0;32m    388\u001b[0m                                 \u001b[38;5;124m\"\u001b[39m\u001b[38;5;124mTo remove HTML markup, use BeautifulSoup\u001b[39m\u001b[38;5;124m'\u001b[39m\u001b[38;5;124ms \u001b[39m\u001b[38;5;124m\"\u001b[39m\n\u001b[0;32m    389\u001b[0m                                 \u001b[38;5;124m\"\u001b[39m\u001b[38;5;124mget_text() function\u001b[39m\u001b[38;5;124m\"\u001b[39m)\n",
      "\u001b[1;31mTypeError\u001b[0m: The `text` argument passed to `__init__(text)` must be a string, not <class 'NoneType'>"
     ]
    }
   ],
   "source": [
    "# Select from collection\n",
    "sentimets_total = {'neutral': 0 , 'positive' : 0 , 'negative':0}\n",
    "for i in records_all:\n",
    "    sentiment = get_sentiment(i)\n",
    "    print (sentiment,'===>',i)\n",
    "    sentimets_total[sentiment] = sentimets_total[sentiment] + 1\n",
    "print(sentimets_total)"
   ]
  },
  {
   "cell_type": "code",
   "execution_count": 12,
   "id": "8f860295",
   "metadata": {},
   "outputs": [
    {
     "data": {
      "image/png": "[encoded data removed]",
      "text/plain": [
       "<Figure size 640x480 with 1 Axes>"
      ]
     },
     "metadata": {},
     "output_type": "display_data"
    }
   ],
   "source": [
    "from matplotlib import pyplot as plt\n",
    "slices = [sentimets_total['neutral'],sentimets_total['positive'],sentimets_total['negative']]\n",
    "activities = ['Neutral','Positive','Negative']\n",
    "cols = ['c','m','r',]\n",
    "\n",
    "plt.pie(slices,\n",
    "        labels=activities,\n",
    "        colors=cols,\n",
    "        shadow= True,\n",
    "        autopct='%1.1f%%')\n",
    "\n",
    "plt.title('Sentiment Analysis of Sentences')\n",
    "plt.legend()\n",
    "plt.show()\n"
   ]
  },
  {
   "cell_type": "code",
   "execution_count": null,
   "id": "38f8dd91",
   "metadata": {},
   "outputs": [],
   "source": []
  }
 ],
 "metadata": {
  "kernelspec": {
   "display_name": "Python 3 (ipykernel)",
   "language": "python",
   "name": "python3"
  },
  "language_info": {
   "codemirror_mode": {
    "name": "ipython",
    "version": 3
   },
   "file_extension": ".py",
   "mimetype": "text/x-python",
   "name": "python",
   "nbconvert_exporter": "python",
   "pygments_lexer": "ipython3",
   "version": "3.10.9"
  }
 },
 "nbformat": 4,
 "nbformat_minor": 5
}
